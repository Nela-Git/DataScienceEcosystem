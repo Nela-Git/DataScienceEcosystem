{
 "cells": [
  {
   "cell_type": "markdown",
   "id": "c711e26c-8384-47cb-8fe8-80ec4a07a58a",
   "metadata": {},
   "source": [
    "# Data Science Tools and Ecosystem"
   ]
  },
  {
   "cell_type": "markdown",
   "id": "e8937222-a672-4602-afec-1a05017d607c",
   "metadata": {},
   "source": [
    "## In this notebook Data Science Tools and Ecosystem are summarized"
   ]
  },
  {
   "cell_type": "markdown",
   "id": "c0a41112-7690-4ba1-bbae-79561d5c2f64",
   "metadata": {},
   "source": [
    "## Objectives\n",
    "- Data Science languages: Python, R, Julia\n",
    "- Data Science libraries: NumPy, Pandas, Scikit-learn, Matplotlib\n",
    "- Open source tools used in data science: Rstudio, Jupiter Notebooks and Jupiter lab, GitHub "
   ]
  },
  {
   "cell_type": "markdown",
   "id": "68a31418-d02b-4e0d-8d14-34188399d2b2",
   "metadata": {},
   "source": [
    "## Some of the popular languages that Data Scientists use are:\n",
    "1. Python\n",
    "2. R\n",
    "3. Julia"
   ]
  },
  {
   "cell_type": "markdown",
   "id": "e79d3714-d474-46e3-b9ca-71d0c127b667",
   "metadata": {},
   "source": [
    "## Some of the commonly used libraries used by Data Scientists include:\n",
    "1. Numpy\n",
    "2. Pandas\n",
    "3. Scikit-learn"
   ]
  },
  {
   "cell_type": "markdown",
   "id": "b9b09a1f-8036-460b-b2d2-46318b34d1d3",
   "metadata": {},
   "source": [
    "|Open Source Data Science Tools|\n",
    "|-------------------|\n",
    "|Rstudio|\n",
    "|Jupiter Notebooks| \n",
    "|GitHub| \n"
   ]
  },
  {
   "cell_type": "markdown",
   "id": "721f55db-339c-4b82-a10f-5fb706c97f70",
   "metadata": {},
   "source": [
    "### Below are a few examples of evaluating arithmetic expressions in Python."
   ]
  },
  {
   "cell_type": "markdown",
   "id": "8c0f1398-8cec-46d5-b56a-01a9af5ab548",
   "metadata": {},
   "source": [
    "#### This a simple arithmetic expression to mutiply then add integers"
   ]
  },
  {
   "cell_type": "code",
   "execution_count": 3,
   "id": "936a82a1-fea8-4e43-92bb-ceedd16ee76c",
   "metadata": {},
   "outputs": [
    {
     "name": "stdout",
     "output_type": "stream",
     "text": [
      "17\n"
     ]
    }
   ],
   "source": [
    "result = (3 * 4) + 5\n",
    "print(result)"
   ]
  },
  {
   "cell_type": "markdown",
   "id": "73d745d4-cff5-478f-b20e-e83713570294",
   "metadata": {},
   "source": [
    "#### This will convert 200 minutes to hours by diving by 60"
   ]
  },
  {
   "cell_type": "code",
   "execution_count": 4,
   "id": "8460aa28-74d7-4262-b4a8-00a45de23226",
   "metadata": {},
   "outputs": [
    {
     "name": "stdout",
     "output_type": "stream",
     "text": [
      "3.3333333333333335\n"
     ]
    }
   ],
   "source": [
    "result = 200 / 60\n",
    "print(result)"
   ]
  },
  {
   "cell_type": "markdown",
   "id": "ad46b2cd-a1a9-4594-9d10-13efb6973450",
   "metadata": {},
   "source": [
    "## Author: \n",
    "Marianela Sanchez Santiago"
   ]
  },
  {
   "cell_type": "code",
   "execution_count": null,
   "id": "c132f356-4f58-45e3-be2f-462a313f0779",
   "metadata": {},
   "outputs": [],
   "source": []
  }
 ],
 "metadata": {
  "kernelspec": {
   "display_name": "Python 3 (ipykernel)",
   "language": "python",
   "name": "python3"
  },
  "language_info": {
   "codemirror_mode": {
    "name": "ipython",
    "version": 3
   },
   "file_extension": ".py",
   "mimetype": "text/x-python",
   "name": "python",
   "nbconvert_exporter": "python",
   "pygments_lexer": "ipython3",
   "version": "3.12.8"
  }
 },
 "nbformat": 4,
 "nbformat_minor": 5
}
